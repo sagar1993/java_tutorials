{
 "cells": [
  {
   "cell_type": "markdown",
   "metadata": {},
   "source": [
    "### Calculating word frequencies with tf-idf in each document algorithmically. \n",
    "\n",
    "\n",
    "\n",
    "#### Find tf-idf for each term in the document \n",
    "\n",
    "\n",
    "TF: Term Frequency, which measures how frequently a term occurs in a document. Since every document is different in length, it is possible that a term would appear much more times in long documents than shorter ones. Thus, the term frequency is often divided by the document length (aka. the total number of terms in the document) as a way of normalization: \n",
    "\n",
    "    TF(t) = (Number of times term t appears in a document) / (Total number of terms in the document).\n",
    "\n",
    "IDF: Inverse Document Frequency, which measures how important a term is. While computing TF, all terms are considered equally important. However it is known that certain terms, such as \"is\", \"of\", and \"that\", may appear a lot of times but have little importance. Thus we need to weigh down the frequent terms while scale up the rare ones, by computing the following: \n",
    "\n",
    "    IDF(t) = log_e(Total number of documents / Number of documents with term t in it).\n",
    "    \n",
    "Source: http://www.tfidf.com/"
   ]
  },
  {
   "cell_type": "code",
   "execution_count": 56,
   "metadata": {},
   "outputs": [],
   "source": [
    "## dictionary_words = {} ## dictionary that gives word count relationship for the entire corpus\n",
    "dictionary_words_in_document = {} ## dictionary that gives words, count relationship for each document\n",
    "dictionary_count_words = {}  ## dictionary that gives total word count for each document\n",
    "dictionary_document_words = {} ## dictionary that gives document count for each word\n",
    "total_document = 0\n",
    "with open('farm-ads-data', mode='r') as f:\n",
    "        for index, line in enumerate(f):\n",
    "            total_document += 1\n",
    "            words = line.split()\n",
    "            dictionary_words_in_document[index] = {}\n",
    "            word_count_document = 0\n",
    "            for w in words:\n",
    "                word_count_document += 1 \n",
    "                \"\"\"\n",
    "                if w in dictionary_words:\n",
    "                    dictionary_words[w] += 1\n",
    "                else:\n",
    "                    dictionary_words[w] = 1\n",
    "                \"\"\"\n",
    "                if w in dictionary_words_in_document[index]:\n",
    "                    dictionary_words_in_document[index][w] += 1\n",
    "                else:\n",
    "                    dictionary_words_in_document[index][w] = 1\n",
    "                    if w in dictionary_document_words:\n",
    "                        dictionary_document_words[w] += 1\n",
    "                    else:\n",
    "                        dictionary_document_words[w] = 1\n",
    "            dictionary_count_words[index] = word_count_document"
   ]
  },
  {
   "cell_type": "markdown",
   "metadata": {},
   "source": [
    "#### Finding tf-idf"
   ]
  },
  {
   "cell_type": "code",
   "execution_count": 62,
   "metadata": {},
   "outputs": [],
   "source": [
    "from math import log\n",
    "for i in dictionary_words_in_document:\n",
    "    for key, value in dictionary_words_in_line[i].items():\n",
    "        ## i = document index\n",
    "        ## key = word\n",
    "        ## value = word count in document\n",
    "        count = value\n",
    "        tf = (count * 1.0) / dictionary_count_words[i] \n",
    "        idf = log(total_document/ dictionary_document_words[key])\n",
    "        dictionary_words_in_line[i][key] = tf * idf"
   ]
  },
  {
   "cell_type": "code",
   "execution_count": 64,
   "metadata": {},
   "outputs": [
    {
     "data": {
      "text/plain": [
       "{'bruckheimer': 1.4736373704631356,\n",
       " 'chase': 0.8807612884470166,\n",
       " 'clip': 0.3519273646279901,\n",
       " 'found': 0.09987384442437362,\n",
       " 'jerry': 0.49671198227505553,\n",
       " 'page': 0.06301338005090412,\n",
       " 'premier': 0.36594106279410454,\n",
       " 'sept': 0.45551229946329597,\n",
       " 'th': 0.23991430269229622}"
      ]
     },
     "execution_count": 64,
     "metadata": {},
     "output_type": "execute_result"
    }
   ],
   "source": [
    "dictionary_words_in_line[0]"
   ]
  },
  {
   "cell_type": "code",
   "execution_count": null,
   "metadata": {},
   "outputs": [],
   "source": []
  }
 ],
 "metadata": {
  "kernelspec": {
   "display_name": "Python 2",
   "language": "python",
   "name": "python2"
  },
  "language_info": {
   "codemirror_mode": {
    "name": "ipython",
    "version": 2
   },
   "file_extension": ".py",
   "mimetype": "text/x-python",
   "name": "python",
   "nbconvert_exporter": "python",
   "pygments_lexer": "ipython2",
   "version": "2.7.12"
  }
 },
 "nbformat": 4,
 "nbformat_minor": 2
}
